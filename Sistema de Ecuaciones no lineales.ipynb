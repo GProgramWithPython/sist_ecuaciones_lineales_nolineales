{
 "cells": [
  {
   "cell_type": "code",
   "execution_count": 31,
   "id": "2395bec3-af00-4ad0-ba18-3789e3f42375",
   "metadata": {},
   "outputs": [
    {
     "name": "stdout",
     "output_type": "stream",
     "text": [
      "Using matplotlib backend: Qt5Agg\n"
     ]
    }
   ],
   "source": [
    "import matplotlib.pyplot as plt\n",
    "import numpy as np\n",
    "from scipy.optimize import fsolve\n",
    "%matplotlib auto"
   ]
  },
  {
   "cell_type": "code",
   "execution_count": 32,
   "id": "8f241779-e735-4529-9543-ba7e150a8d84",
   "metadata": {},
   "outputs": [],
   "source": [
    "fig = plt.figure(1,figsize=(6,6))"
   ]
  },
  {
   "cell_type": "code",
   "execution_count": 33,
   "id": "61bc5b1c-7637-4b40-b7b6-087a712d1252",
   "metadata": {},
   "outputs": [],
   "source": [
    "delta = 0.025\n",
    "X,Y = np.meshgrid(np.arange(-10,10,delta),np.arange(-10,10,delta))"
   ]
  },
  {
   "cell_type": "code",
   "execution_count": 61,
   "id": "d9af7243-2ff9-4243-af84-518fd52c3450",
   "metadata": {},
   "outputs": [],
   "source": [
    "f1 = lambda x,y: 4*x+2*y**2+4\n",
    "f2 = lambda x,y: np.exp(x)+3*x*y-5*"
   ]
  },
  {
   "cell_type": "code",
   "execution_count": 62,
   "id": "c97047ca-f795-45d3-8451-5a7ca8c00f61",
   "metadata": {},
   "outputs": [
    {
     "name": "stderr",
     "output_type": "stream",
     "text": [
      "<ipython-input-61-a631e0830667>:1: RuntimeWarning: invalid value encountered in log\n",
      "  f1 = lambda x,y: np.log(x)+np.log(y)-np.log(2)\n"
     ]
    },
    {
     "data": {
      "text/plain": [
       "<function matplotlib.pyplot.show(*, block=None)>"
      ]
     },
     "execution_count": 62,
     "metadata": {},
     "output_type": "execute_result"
    }
   ],
   "source": [
    "plt.contour(X,Y,f1(X,Y),[0])\n",
    "plt.contour(X,Y,f2(X,Y),[0])\n",
    "plt.grid()\n",
    "plt.show"
   ]
  },
  {
   "cell_type": "markdown",
   "id": "8b0c24e4-cbd8-4ae0-a282-0f02f2581894",
   "metadata": {},
   "source": [
    "# Solución del sistema de ecuaciones"
   ]
  },
  {
   "cell_type": "code",
   "execution_count": 40,
   "id": "820eaeca-cf77-416a-9e9c-14f316983fa8",
   "metadata": {},
   "outputs": [],
   "source": [
    "def func(xvect):\n",
    "    X,Y = xvect\n",
    "    return f1(X,Y),f2(X,Y)"
   ]
  },
  {
   "cell_type": "code",
   "execution_count": 41,
   "id": "54c06c30-869c-4e1d-b215-898038ad403f",
   "metadata": {},
   "outputs": [],
   "source": [
    "sol = fsolve(func,[0.8,1.2])"
   ]
  },
  {
   "cell_type": "code",
   "execution_count": 42,
   "id": "af959280-84a1-4201-80fd-3ee797aee0a8",
   "metadata": {},
   "outputs": [
    {
     "name": "stdout",
     "output_type": "stream",
     "text": [
      "La solución es  [1. 2.]\n"
     ]
    }
   ],
   "source": [
    "print('La solución es ', sol)"
   ]
  },
  {
   "cell_type": "code",
   "execution_count": null,
   "id": "b4a9cfef-8905-4568-9014-284bd243b5bf",
   "metadata": {},
   "outputs": [],
   "source": []
  }
 ],
 "metadata": {
  "kernelspec": {
   "display_name": "Python 3",
   "language": "python",
   "name": "python3"
  },
  "language_info": {
   "codemirror_mode": {
    "name": "ipython",
    "version": 3
   },
   "file_extension": ".py",
   "mimetype": "text/x-python",
   "name": "python",
   "nbconvert_exporter": "python",
   "pygments_lexer": "ipython3",
   "version": "3.8.8"
  }
 },
 "nbformat": 4,
 "nbformat_minor": 5
}
