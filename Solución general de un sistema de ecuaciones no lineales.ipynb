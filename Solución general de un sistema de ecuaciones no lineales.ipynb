{
 "cells": [
  {
   "cell_type": "code",
   "execution_count": 1,
   "id": "c2302d7d-fb1d-4350-b05d-ee32eab57b3f",
   "metadata": {},
   "outputs": [],
   "source": [
    "from sympy import *"
   ]
  },
  {
   "cell_type": "code",
   "execution_count": 2,
   "id": "692bc368-6dd1-45df-97c6-41a9e118a72c",
   "metadata": {},
   "outputs": [],
   "source": [
    "x = symbols('x')\n",
    "y = symbols('y')"
   ]
  },
  {
   "cell_type": "code",
   "execution_count": 3,
   "id": "d9045228-b50d-42fb-8aac-36c0e33a3e5e",
   "metadata": {},
   "outputs": [],
   "source": [
    "E1 = Eq((1/x**2)+(1/y**2)-13,0)\n",
    "E2 = Eq((1/x)-(1/y)-1,0)"
   ]
  },
  {
   "cell_type": "code",
   "execution_count": 4,
   "id": "20370981-f0bf-4f5b-8c6b-443fa6a794bc",
   "metadata": {},
   "outputs": [],
   "source": [
    "solucion = solve([E1,E2],x,y)"
   ]
  },
  {
   "cell_type": "code",
   "execution_count": 5,
   "id": "762cb54f-97d5-4bb9-b7f3-bfe497711cd6",
   "metadata": {},
   "outputs": [
    {
     "data": {
      "text/plain": [
       "[(-1/2, -1/3), (1/3, 1/2)]"
      ]
     },
     "execution_count": 5,
     "metadata": {},
     "output_type": "execute_result"
    }
   ],
   "source": [
    "solucion"
   ]
  },
  {
   "cell_type": "code",
   "execution_count": 10,
   "id": "df995151-8f30-4d16-bffb-8fe42924ce4b",
   "metadata": {},
   "outputs": [
    {
     "name": "stdout",
     "output_type": "stream",
     "text": [
      "Using matplotlib backend: Qt5Agg\n"
     ]
    }
   ],
   "source": [
    "import matplotlib.pyplot as plt\n",
    "import numpy as np\n",
    "%matplotlib auto"
   ]
  },
  {
   "cell_type": "code",
   "execution_count": 11,
   "id": "bcc9da0c-c751-4785-8b35-0a6474de657a",
   "metadata": {},
   "outputs": [],
   "source": [
    "X,Y = np.meshgrid(np.arange(-10,10,0.025),np.arange(-10,10,0.025))"
   ]
  },
  {
   "cell_type": "code",
   "execution_count": 12,
   "id": "ca8fdeb3-9f6c-4753-9cfa-f443311ecab6",
   "metadata": {},
   "outputs": [],
   "source": [
    "f1 = lambda x,y:(1/x**2)+(1/y**2)-13\n",
    "f2 = lambda x,y:(1/x)-(1/y)-1"
   ]
  },
  {
   "cell_type": "code",
   "execution_count": 13,
   "id": "f9414745-be53-4e93-8043-d6eacc559bcc",
   "metadata": {},
   "outputs": [
    {
     "data": {
      "text/plain": [
       "<function matplotlib.pyplot.show(*, block=None)>"
      ]
     },
     "execution_count": 13,
     "metadata": {},
     "output_type": "execute_result"
    }
   ],
   "source": [
    "plt.contour(X,Y,f1(X,Y),[0])\n",
    "plt.contour(X,Y,f2(X,Y),[0])\n",
    "plt.show"
   ]
  },
  {
   "cell_type": "code",
   "execution_count": null,
   "id": "91f40c8c-c5ff-405a-9a2d-5b920a418640",
   "metadata": {},
   "outputs": [],
   "source": []
  }
 ],
 "metadata": {
  "kernelspec": {
   "display_name": "Python 3",
   "language": "python",
   "name": "python3"
  },
  "language_info": {
   "codemirror_mode": {
    "name": "ipython",
    "version": 3
   },
   "file_extension": ".py",
   "mimetype": "text/x-python",
   "name": "python",
   "nbconvert_exporter": "python",
   "pygments_lexer": "ipython3",
   "version": "3.8.8"
  }
 },
 "nbformat": 4,
 "nbformat_minor": 5
}
