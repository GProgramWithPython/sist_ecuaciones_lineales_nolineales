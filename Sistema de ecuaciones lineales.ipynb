{
 "cells": [
  {
   "cell_type": "code",
   "execution_count": 1,
   "id": "afaea9fe-b584-4347-8d60-48ac3813b45e",
   "metadata": {},
   "outputs": [],
   "source": [
    "import numpy as np\n",
    "from numpy import matrix, zeros, size\n",
    "from numpy.linalg import det"
   ]
  },
  {
   "cell_type": "code",
   "execution_count": 2,
   "id": "9294c557-abd3-4271-ba0b-c666262ed1ae",
   "metadata": {},
   "outputs": [
    {
     "name": "stdin",
     "output_type": "stream",
     "text": [
      "Ingrese el tamaño de su matriz cuadrada:  3\n"
     ]
    },
    {
     "name": "stdout",
     "output_type": "stream",
     "text": [
      "Ingrese los valores de la matriz cuadrada\n"
     ]
    },
    {
     "name": "stdin",
     "output_type": "stream",
     "text": [
      "Ingrese elementos:  1\n",
      "Ingrese elementos:  4\n",
      "Ingrese elementos:  2\n",
      "Ingrese elementos:  2\n",
      "Ingrese elementos:  4\n",
      "Ingrese elementos:  4\n",
      "Ingrese elementos:  4\n",
      "Ingrese elementos:  2\n",
      "Ingrese elementos:  3\n"
     ]
    },
    {
     "data": {
      "text/plain": [
       "array([[1., 4., 2.],\n",
       "       [2., 4., 4.],\n",
       "       [4., 2., 3.]])"
      ]
     },
     "execution_count": 2,
     "metadata": {},
     "output_type": "execute_result"
    }
   ],
   "source": [
    "n = int(input('Ingrese el tamaño de su matriz cuadrada: '))\n",
    "\n",
    "A = np.array([])\n",
    "\n",
    "Ag = []\n",
    "\n",
    "print('Ingrese los valores de la matriz cuadrada')\n",
    "\n",
    "for i in range(0,n**2):\n",
    "    x = float(input('Ingrese elementos: '))\n",
    "    A = np.append(A,x)\n",
    "    Ag.append(x)\n",
    "\n",
    "A = A.reshape(n,n)\n",
    "\n",
    "A\n",
    "        "
   ]
  },
  {
   "cell_type": "code",
   "execution_count": 3,
   "id": "490d9b97-3b82-4401-8c03-61236070f880",
   "metadata": {},
   "outputs": [
    {
     "name": "stdout",
     "output_type": "stream",
     "text": [
      "Ingrese los valores de la matriz constante\n"
     ]
    },
    {
     "name": "stdin",
     "output_type": "stream",
     "text": [
      "Ingrese elementos:  72\n",
      "Ingrese elementos:  104\n",
      "Ingrese elementos:  88\n"
     ]
    },
    {
     "data": {
      "text/plain": [
       "array([[ 72.],\n",
       "       [104.],\n",
       "       [ 88.]])"
      ]
     },
     "execution_count": 3,
     "metadata": {},
     "output_type": "execute_result"
    }
   ],
   "source": [
    "B = np.array([])\n",
    "\n",
    "Bg = []\n",
    "\n",
    "print('Ingrese los valores de la matriz constante')\n",
    "\n",
    "for i in range (0,n):\n",
    "    y = float(input('Ingrese elementos: '))\n",
    "    B = np.append(B,y)\n",
    "    Bg.append(y)\n",
    "\n",
    "B = B.reshape(n,1)\n",
    "B"
   ]
  },
  {
   "cell_type": "code",
   "execution_count": 4,
   "id": "a7e8c5c8-cac5-4228-adbe-5ccca580b4d8",
   "metadata": {},
   "outputs": [
    {
     "data": {
      "text/plain": [
       "array([[ 2.00000000e-01, -4.00000000e-01,  4.00000000e-01],\n",
       "       [ 5.00000000e-01, -2.50000000e-01, -5.94762335e-18],\n",
       "       [-6.00000000e-01,  7.00000000e-01, -2.00000000e-01]])"
      ]
     },
     "execution_count": 4,
     "metadata": {},
     "output_type": "execute_result"
    }
   ],
   "source": [
    "Inv = np.linalg.inv(A)\n",
    "Inv"
   ]
  },
  {
   "cell_type": "code",
   "execution_count": 5,
   "id": "af66fa9d-5f22-4ac1-bb09-8a890a1df751",
   "metadata": {},
   "outputs": [
    {
     "data": {
      "text/plain": [
       "array([[ 8.],\n",
       "       [10.],\n",
       "       [12.]])"
      ]
     },
     "execution_count": 5,
     "metadata": {},
     "output_type": "execute_result"
    }
   ],
   "source": [
    "C = np.dot(Inv,B)\n",
    "C"
   ]
  },
  {
   "cell_type": "code",
   "execution_count": 6,
   "id": "c8fb29f6-e43a-4f38-b361-eca39d562487",
   "metadata": {},
   "outputs": [
    {
     "name": "stdout",
     "output_type": "stream",
     "text": [
      "El valor de x es:  [8.]\n",
      "El valor de y es:  [10.]\n",
      "El valor de z es:  [12.]\n"
     ]
    }
   ],
   "source": [
    "print('El valor de x es: ', C[0])\n",
    "print('El valor de y es: ', C[1])\n",
    "print('El valor de z es: ', C[2])"
   ]
  },
  {
   "cell_type": "code",
   "execution_count": 7,
   "id": "04953743-0c39-4acc-ae67-94c63c2e81b7",
   "metadata": {},
   "outputs": [
    {
     "name": "stdout",
     "output_type": "stream",
     "text": [
      "Using matplotlib backend: Qt5Agg\n"
     ]
    }
   ],
   "source": [
    "import matplotlib.pyplot as plt\n",
    "from mpl_toolkits.mplot3d import Axes3D\n",
    "from matplotlib import cm\n",
    "%matplotlib auto"
   ]
  },
  {
   "cell_type": "code",
   "execution_count": 8,
   "id": "6b6914a6-c450-4616-8327-a6a2ccb02241",
   "metadata": {},
   "outputs": [],
   "source": [
    "x1,y1 = np.linspace(-20,20,100), np.linspace(-20,20,100)\n",
    "X,Y = np.meshgrid(x1,y1)"
   ]
  },
  {
   "cell_type": "code",
   "execution_count": 9,
   "id": "277a4138-eafa-44fd-9abb-284be93f01ec",
   "metadata": {},
   "outputs": [],
   "source": [
    "Z1 = (Bg[0]-Ag[0]*X-Ag[1])/Ag[2]\n",
    "Z2 = (Bg[1]-Ag[3]*X-Ag[4])/Ag[5]\n",
    "Z3 = (Bg[2]-Ag[6]*X-Ag[7])/Ag[8]"
   ]
  },
  {
   "cell_type": "code",
   "execution_count": 10,
   "id": "6692eb9d-d21a-4dc0-b58a-293df0b4e8b5",
   "metadata": {},
   "outputs": [
    {
     "data": {
      "text/plain": [
       "Text(0.5, 0, 'Eje z')"
      ]
     },
     "execution_count": 10,
     "metadata": {},
     "output_type": "execute_result"
    }
   ],
   "source": [
    "fig = plt.figure()\n",
    "\n",
    "ax = fig.add_subplot(111, projection = '3d')\n",
    "\n",
    "ax.plot_surface(X,Y,Z1, alpha = 0.8, cmap = cm.Accent, rstride = 100, cstride = 100)\n",
    "ax.plot_surface(X,Y,Z2, alpha = 0.8, cmap = cm.Paired, rstride = 100, cstride = 100)\n",
    "ax.plot_surface(X,Y,Z3, alpha = 0.8, cmap = cm.hot, rstride = 100, cstride = 100)\n",
    "\n",
    "ax.set_xlabel('Eje x')\n",
    "ax.set_ylabel('Eje y')\n",
    "ax.set_zlabel('Eje z')"
   ]
  },
  {
   "cell_type": "markdown",
   "id": "95a1616b-07e3-4158-a0e4-ca95be8eecd8",
   "metadata": {},
   "source": [
    "### "
   ]
  }
 ],
 "metadata": {
  "kernelspec": {
   "display_name": "Python 3",
   "language": "python",
   "name": "python3"
  },
  "language_info": {
   "codemirror_mode": {
    "name": "ipython",
    "version": 3
   },
   "file_extension": ".py",
   "mimetype": "text/x-python",
   "name": "python",
   "nbconvert_exporter": "python",
   "pygments_lexer": "ipython3",
   "version": "3.8.8"
  }
 },
 "nbformat": 4,
 "nbformat_minor": 5
}
